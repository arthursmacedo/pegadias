{
 "cells": [
  {
   "cell_type": "code",
   "execution_count": 1,
   "id": "bd369cb1-2c3b-4f43-aa03-d7cfe9d1845a",
   "metadata": {},
   "outputs": [],
   "source": [
    "import pandas as pd\n",
    "from pathlib import PurePath"
   ]
  },
  {
   "cell_type": "code",
   "execution_count": 2,
   "id": "e413d44e-c888-41c2-ba23-0af31f3069c9",
   "metadata": {},
   "outputs": [],
   "source": [
    "def get_days(csv_file):\n",
    "\n",
    "    \"\"\"\n",
    "    Processes dates from a CSV file.\n",
    "\n",
    "    Parameters:\n",
    "    csv_file (str): Path to the CSV file containing dates.\n",
    "\n",
    "    Returns:\n",
    "    list: A list of processed dates in the format 'YYYY/MM/DD'.\n",
    "\n",
    "    Reads the specified CSV file and converts the dates in the 'Date' column\n",
    "    to the format 'YYYY/MM/DD'. The processed dates are returned as a list.\n",
    "\n",
    "    Example:\n",
    "    If the CSV file contains dates in the 'Date' column like '2024-04-15',\n",
    "    this function will convert them to '2024/04/15' and return a list\n",
    "    of processed dates.\n",
    "\n",
    "    Note:\n",
    "    The 'Date' column in the CSV file should be in a format that can be\n",
    "    parsed by pandas.to_datetime, such as 'YYYY-MM-DD'.\n",
    "    \"\"\"\n",
    "    \n",
    "    # Read CSV file into a DataFrame\n",
    "    df = pd.read_csv(csv_file)\n",
    "    \n",
    "    # Extract day, month, and year from the date column\n",
    "    df['Date'] = pd.to_datetime(df['Date']).dt.strftime('%Y/%m/%d')\n",
    "    \n",
    "    # Return a list of processed dates\n",
    "    return df['Date'].tolist()"
   ]
  },
  {
   "cell_type": "code",
   "execution_count": 3,
   "id": "8190f3f4-af62-42cc-a284-20fca492f31f",
   "metadata": {},
   "outputs": [],
   "source": [
    "def test_get_days(file):\n",
    "    \"\"\"Test if the function get_days return the correct values.\"\"\"\n",
    "    assert get_days('viena.csv') == ['2023/01/01']"
   ]
  },
  {
   "cell_type": "code",
   "execution_count": 4,
   "id": "d8a469f3-b5f0-40f9-8c11-d59f560fc82f",
   "metadata": {},
   "outputs": [],
   "source": [
    "def generate_request_file(date_list, station_code):\n",
    "    \"\"\"\n",
    "    Generates request files and updates a bash script to execute data retrieval.\n",
    "\n",
    "    Parameters:\n",
    "    date_list (list): A list of dates in 'YYYY/MM/DD' format.\n",
    "    station_code (str): The station code used for naming request files.\n",
    "\n",
    "    Creates a `run_nmsclient.sh` bash script and generates request files (`*.req`)\n",
    "    based on the provided list of dates and station code. Each request file contains\n",
    "    specific commands for data retrieval from the CTBTO database.\n",
    "environment.yml\n",
    "    Request File Format:\n",
    "    - Each request file is named based on the station code, year, month, and day.\n",
    "    - The request file contains IMS 2.0 protocol commands to request infrasound data,\n",
    "      including station information, time range, and waveform specifications.\n",
    "\n",
    "    Bash Script Update:\n",
    "    - Appends commands to the `run_nmsclient.sh` script to execute `nms_client.sh`\n",
    "      with the generated request files (`*.req`) and output MiniSEED data files (`*.mseed`).\n",
    "\n",
    "    Example:\n",
    "    For `date_list = ['2024/04/15', '2024/04/16']` and `station_code = 'i01ar'`,\n",
    "    this function will create request files named `I01AR_2024_04_15.req` and `I01AR_2024_04_16.req`\n",
    "    containing IMS 2.0 commands. It will al\n",
    "['2023/01/01']\n",
    "so update `run_nmsclient.sh` to execute\n",
    "    `nms_client.sh` for each request file to retrieve MiniSEED data.\n",
    "['2023/01/01']\n",
    "    Note:\n",
    "    - Ensure `nms_client.sh` is available and configured correctly to handle the generated\n",
    "      request files and output MiniSEED data.\n",
    "\n",
    "    \"\"\"\n",
    "    \n",
    "    # Create a run_nmsclient.sh file with the initial bash script\n",
    "    with open('run_nmsclient.sh', 'w') as run:\n",
    "        run.write('#!/bin/bash \\n\\n')\n",
    "    \n",
    "    # Generate request files and append commands to run_nmsclient.sh\n",
    "    with open('run_nmsclient.sh', 'a') as run:\n",
    "        for date in date_list:\n",
    "            year, month, day = date.split('/')\n",
    "            file_name = f'{station_code.upper()}_{year}_{month}_{day}'\n",
    "            req_file = f'{file_name}.req'\n",
    "            mseed_file = f'{file_name}.mseed'\n",
    "            \n",
    "            # Write request file content\n",
    "            with open(req_file, 'w') as req:\n",
    "                req.write(f'begin ims2.0\\n')\n",
    "                req.write(f'msg_type request\\n')\n",
    "                req.write(f'msg_id mseed_{station_code.lower()}\\n')\n",
    "                req.write(f'time {date} 00:00:00 to {date} 23:59:59\\n')\n",
    "                req.write(f'sta_list {station_code.upper()}\\n')\n",
    "                req.write(f'chan_list BDF\\n')\n",
    "                req.write(f'waveform ims2.0:ms_st2_512\\n')\n",
    "                req.write(f'stop\\n')\n",
    "            \n",
    "            # Append command to run_nmsclient.sh\n",
    "            run.write(f'nms_client.sh {req_file} -f {mseed_file}\\n')\n"
   ]
  },
  {
   "cell_type": "code",
   "execution_count": 9,
   "id": "38b0eba9-72df-4539-ba1c-31feb86b6203",
   "metadata": {},
   "outputs": [],
   "source": [
    "def test_generate_request_file(self):\n",
    "\n",
    "    \"\"\"\n",
    "    Test case for the generate_request_file function.\n",
    "\n",
    "    This test verifies the behavior of generate_request_file by supplying example input data,\n",
    "    generating request files using the function, and then comparing the content of the generated\n",
    "    request file with an expected IMS 2.0 request string.\n",
    "    \"\"\"\n",
    "    \n",
    "    # Example input data\n",
    "    date_list = ['2023/01/01']\n",
    "    station_code = 'test'\n",
    "    \n",
    "    # Call the function to generate request files\n",
    "    generate_request_file(date_list, station_code)\n",
    "    \n",
    "    # Define the expected IMS 2.0 request string\n",
    "    expected_request = (\n",
    "        'begin ims2.0\\n'\n",
    "        'msg_type request\\n'\n",
    "        'msg_id mseed_test\\n'\n",
    "        'time 2023/01/01 00:00:00 to 2023/01/01 23:59:59\\n'\n",
    "        'sta_list TEST\\n'\n",
    "        'chan_list BDF\\n'\n",
    "        'waveform ims2.0:ms_st2_512\\n'\n",
    "        'stop\\n'\n",
    "    )\n",
    "    \n",
    "    # Read the generated request file\n",
    "    req_file_path = 'TEST_2023_01_01.req'\n",
    "    with open(req_file_path, 'r') as req_file:\n",
    "        generated_request = req_file.read()\n",
    "\n",
    "    # Assert that the generated request matches the expected request\n",
    "    assert generated_request == expected_request, \"Generated request does not match expected request\"\n"
   ]
  },
  {
   "cell_type": "code",
   "execution_count": 10,
   "id": "c59150c7-5320-4c66-b6a1-0e8b67bb17b0",
   "metadata": {},
   "outputs": [
    {
     "name": "stdout",
     "output_type": "stream",
     "text": [
      "['2023/01/01']\n"
     ]
    }
   ],
   "source": [
    "# Process the CSV file to get the list of dates\n",
    "date_list = get_days('viena.csv')\n",
    "print(date_list)"
   ]
  },
  {
   "cell_type": "code",
   "execution_count": 11,
   "id": "bdb5238a-3eff-41f8-b6a7-ab5adf0969a6",
   "metadata": {},
   "outputs": [
    {
     "name": "stdout",
     "output_type": "stream",
     "text": [
      "['2023/01/01']\n"
     ]
    }
   ],
   "source": [
    "# Process the CSV file to get the list of dates\n",
    "date_list = get_days('viena.csv')\n",
    "print(date_list)\n",
    "\n",
    "# Generate request files and update run_nmsclient.sh for each station\n",
    "generate_request_file(date_list, 'i01ar')\n",
    "generate_request_file(date_list, 'i11cv')\n",
    "generate_request_file(date_list, 'i42pt')\n",
    "generate_request_file(date_list, 'i37no')\n",
    "generate_request_file(date_list, 'i56us')"
   ]
  },
  {
   "cell_type": "code",
   "execution_count": 12,
   "id": "c9e5ebd0-c906-4f0f-9087-e8cce2ebee81",
   "metadata": {},
   "outputs": [],
   "source": [
    "test_generate_request_file('TEST_2023_01_01.req')"
   ]
  },
  {
   "cell_type": "code",
   "execution_count": 13,
   "id": "96be5b73-fda9-4513-a86f-3f69a15e3ba2",
   "metadata": {},
   "outputs": [],
   "source": [
    "test_get_days('viena.csv')"
   ]
  }
 ],
 "metadata": {
  "kernelspec": {
   "display_name": "Python 3 (ipykernel)",
   "language": "python",
   "name": "python3"
  },
  "language_info": {
   "codemirror_mode": {
    "name": "ipython",
    "version": 3
   },
   "file_extension": ".py",
   "mimetype": "text/x-python",
   "name": "python",
   "nbconvert_exporter": "python",
   "pygments_lexer": "ipython3",
   "version": "3.10.14"
  }
 },
 "nbformat": 4,
 "nbformat_minor": 5
}
